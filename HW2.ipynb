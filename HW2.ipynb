{
 "cells": [
  {
   "cell_type": "code",
   "execution_count": 1,
   "id": "1afc0e06-46f4-4e93-b40a-040ea4dc7d28",
   "metadata": {},
   "outputs": [
    {
     "data": {
      "text/plain": [
       "'2.3.1'"
      ]
     },
     "execution_count": 1,
     "metadata": {},
     "output_type": "execute_result"
    }
   ],
   "source": [
    "import numpy as np\n",
    "import pandas as pd\n",
    "\n",
    "pd.__version__\n"
   ]
  },
  {
   "cell_type": "code",
   "execution_count": 31,
   "id": "f2746d62-d25a-4215-a14c-b6caf9c2efd3",
   "metadata": {},
   "outputs": [
    {
     "data": {
      "text/plain": [
       "9704"
      ]
     },
     "metadata": {},
     "output_type": "display_data"
    },
    {
     "data": {
      "text/html": [
       "<div>\n",
       "<style scoped>\n",
       "    .dataframe tbody tr th:only-of-type {\n",
       "        vertical-align: middle;\n",
       "    }\n",
       "\n",
       "    .dataframe tbody tr th {\n",
       "        vertical-align: top;\n",
       "    }\n",
       "\n",
       "    .dataframe thead th {\n",
       "        text-align: right;\n",
       "    }\n",
       "</style>\n",
       "<table border=\"1\" class=\"dataframe\">\n",
       "  <thead>\n",
       "    <tr style=\"text-align: right;\">\n",
       "      <th></th>\n",
       "      <th>engine_displacement</th>\n",
       "      <th>num_cylinders</th>\n",
       "      <th>horsepower</th>\n",
       "      <th>vehicle_weight</th>\n",
       "      <th>acceleration</th>\n",
       "      <th>model_year</th>\n",
       "      <th>origin</th>\n",
       "      <th>fuel_type</th>\n",
       "      <th>drivetrain</th>\n",
       "      <th>num_doors</th>\n",
       "      <th>fuel_efficiency_mpg</th>\n",
       "    </tr>\n",
       "  </thead>\n",
       "  <tbody>\n",
       "    <tr>\n",
       "      <th>0</th>\n",
       "      <td>170</td>\n",
       "      <td>3.0</td>\n",
       "      <td>159.0</td>\n",
       "      <td>3413.433759</td>\n",
       "      <td>17.7</td>\n",
       "      <td>2003</td>\n",
       "      <td>Europe</td>\n",
       "      <td>Gasoline</td>\n",
       "      <td>All-wheel drive</td>\n",
       "      <td>0.0</td>\n",
       "      <td>13.231729</td>\n",
       "    </tr>\n",
       "    <tr>\n",
       "      <th>1</th>\n",
       "      <td>130</td>\n",
       "      <td>5.0</td>\n",
       "      <td>97.0</td>\n",
       "      <td>3149.664934</td>\n",
       "      <td>17.8</td>\n",
       "      <td>2007</td>\n",
       "      <td>USA</td>\n",
       "      <td>Gasoline</td>\n",
       "      <td>Front-wheel drive</td>\n",
       "      <td>0.0</td>\n",
       "      <td>13.688217</td>\n",
       "    </tr>\n",
       "    <tr>\n",
       "      <th>2</th>\n",
       "      <td>170</td>\n",
       "      <td>NaN</td>\n",
       "      <td>78.0</td>\n",
       "      <td>3079.038997</td>\n",
       "      <td>15.1</td>\n",
       "      <td>2018</td>\n",
       "      <td>Europe</td>\n",
       "      <td>Gasoline</td>\n",
       "      <td>Front-wheel drive</td>\n",
       "      <td>0.0</td>\n",
       "      <td>14.246341</td>\n",
       "    </tr>\n",
       "    <tr>\n",
       "      <th>3</th>\n",
       "      <td>220</td>\n",
       "      <td>4.0</td>\n",
       "      <td>NaN</td>\n",
       "      <td>2542.392402</td>\n",
       "      <td>20.2</td>\n",
       "      <td>2009</td>\n",
       "      <td>USA</td>\n",
       "      <td>Diesel</td>\n",
       "      <td>All-wheel drive</td>\n",
       "      <td>2.0</td>\n",
       "      <td>16.912736</td>\n",
       "    </tr>\n",
       "    <tr>\n",
       "      <th>4</th>\n",
       "      <td>210</td>\n",
       "      <td>1.0</td>\n",
       "      <td>140.0</td>\n",
       "      <td>3460.870990</td>\n",
       "      <td>14.4</td>\n",
       "      <td>2009</td>\n",
       "      <td>Europe</td>\n",
       "      <td>Gasoline</td>\n",
       "      <td>All-wheel drive</td>\n",
       "      <td>2.0</td>\n",
       "      <td>12.488369</td>\n",
       "    </tr>\n",
       "  </tbody>\n",
       "</table>\n",
       "</div>"
      ],
      "text/plain": [
       "   engine_displacement  num_cylinders  horsepower  vehicle_weight  \\\n",
       "0                  170            3.0       159.0     3413.433759   \n",
       "1                  130            5.0        97.0     3149.664934   \n",
       "2                  170            NaN        78.0     3079.038997   \n",
       "3                  220            4.0         NaN     2542.392402   \n",
       "4                  210            1.0       140.0     3460.870990   \n",
       "\n",
       "   acceleration  model_year  origin fuel_type         drivetrain  num_doors  \\\n",
       "0          17.7        2003  Europe  Gasoline    All-wheel drive        0.0   \n",
       "1          17.8        2007     USA  Gasoline  Front-wheel drive        0.0   \n",
       "2          15.1        2018  Europe  Gasoline  Front-wheel drive        0.0   \n",
       "3          20.2        2009     USA    Diesel    All-wheel drive        2.0   \n",
       "4          14.4        2009  Europe  Gasoline    All-wheel drive        2.0   \n",
       "\n",
       "   fuel_efficiency_mpg  \n",
       "0            13.231729  \n",
       "1            13.688217  \n",
       "2            14.246341  \n",
       "3            16.912736  \n",
       "4            12.488369  "
      ]
     },
     "metadata": {},
     "output_type": "display_data"
    },
    {
     "name": "stdout",
     "output_type": "stream",
     "text": [
      "Index(['engine_displacement', 'num_cylinders', 'horsepower', 'vehicle_weight',\n",
      "       'acceleration', 'model_year', 'origin', 'fuel_type', 'drivetrain',\n",
      "       'num_doors', 'fuel_efficiency_mpg'],\n",
      "      dtype='object')\n"
     ]
    },
    {
     "data": {
      "text/plain": [
       "engine_displacement      int64\n",
       "num_cylinders          float64\n",
       "horsepower             float64\n",
       "vehicle_weight         float64\n",
       "acceleration           float64\n",
       "model_year               int64\n",
       "origin                  object\n",
       "fuel_type               object\n",
       "drivetrain              object\n",
       "num_doors              float64\n",
       "fuel_efficiency_mpg    float64\n",
       "dtype: object"
      ]
     },
     "metadata": {},
     "output_type": "display_data"
    },
    {
     "name": "stdout",
     "output_type": "stream",
     "text": [
      "9704\n"
     ]
    }
   ],
   "source": [
    "file_path = 'car_fuel_efficiency.csv'\n",
    "\n",
    "df=pd.read_csv(file_path)\n",
    "display(len(df))\n",
    "#First overvuew of data\n",
    "display(df.head())\n",
    "#Column list\n",
    "print(df.columns)\n",
    "\n",
    "#Types\n",
    "display(df.dtypes)\n",
    "#Row size\n",
    "print(df.shape[0])\n",
    "\n",
    "#Clean data\n",
    "# like series it also has the str method for doing string \n",
    "# manipulation what we can do now is to apply the same \n",
    "# string function to all column names\n",
    "df.columns = df.columns.str.lower().str.replace(' ','_')\n",
    "#display(df.head())\n",
    "\n"
   ]
  },
  {
   "cell_type": "code",
   "execution_count": 32,
   "id": "db99c73a-aa77-45dd-97a0-b9817b409d13",
   "metadata": {},
   "outputs": [
    {
     "name": "stdout",
     "output_type": "stream",
     "text": [
      "Null column check\n"
     ]
    },
    {
     "data": {
      "text/plain": [
       "engine_displacement    False\n",
       "horsepower              True\n",
       "vehicle_weight         False\n",
       "model_year             False\n",
       "fuel_efficiency_mpg    False\n",
       "dtype: bool"
      ]
     },
     "metadata": {},
     "output_type": "display_data"
    }
   ],
   "source": [
    "column_list=['engine_displacement',\n",
    "'horsepower',\n",
    "'vehicle_weight',\n",
    "'model_year',\n",
    "'fuel_efficiency_mpg']\n",
    "df=df[column_list]\n",
    "#display(df2['fuel_efficiency_mpg'].tail())\n",
    "print(\"Null column check\")\n",
    "display(df.isna().any())"
   ]
  },
  {
   "cell_type": "code",
   "execution_count": 33,
   "id": "8b2f6de7-1357-47c8-9cc6-5360a36d7ed2",
   "metadata": {},
   "outputs": [
    {
     "data": {
      "text/plain": [
       "np.float64(149.0)"
      ]
     },
     "metadata": {},
     "output_type": "display_data"
    }
   ],
   "source": [
    "display(df['horsepower'].median())"
   ]
  },
  {
   "cell_type": "code",
   "execution_count": 39,
   "id": "e7830b9f-33c9-4d01-a8bb-12321323b963",
   "metadata": {},
   "outputs": [],
   "source": [
    "#Data organization\n",
    "'''\n",
    "np.random.seed(42)\n",
    "\n",
    "n = len(df)\n",
    "\n",
    "n_val = int(0.2 * n)\n",
    "n_test = int(0.2 * n)\n",
    "n_train = n - (n_val + n_test)\n",
    "\n",
    "idx = np.arange(n)\n",
    "np.random.shuffle(idx)\n",
    "\n",
    "df_shuffled = df.iloc[idx]\n",
    "\n",
    "df_train = df_shuffled.iloc[:n_train].copy()\n",
    "df_val = df_shuffled.iloc[n_train:n_train+n_val].copy()\n",
    "df_test = df_shuffled.iloc[n_train+n_val:].copy()\n",
    "\n",
    "base=[x for x in df.columns]\n",
    "mean=df_train['fuel_efficiency_mpg'].mean()\n",
    "'''\n",
    "def prepare_X(df):\n",
    "    base=[x for x in df.columns]\n",
    "    df_num = df[base]\n",
    "    df_num = df_num.fillna(0)\n",
    "    #df_num = df_num.fillna(mean)\n",
    "    X = df_num.values\n",
    "    return X\n",
    "    \n",
    "def train_linear_regression(X, y):\n",
    "    ones = np.ones(X.shape[0])\n",
    "    X = np.column_stack([ones, X])\n",
    "\n",
    "    XTX = X.T.dot(X)\n",
    "    XTX_inv = np.linalg.inv(XTX)\n",
    "    w = XTX_inv.dot(X.T).dot(y)\n",
    "    \n",
    "    return w[0], w[1:]"
   ]
  },
  {
   "cell_type": "code",
   "execution_count": 22,
   "id": "019d4fc4-3001-44d2-b232-403df5e83d44",
   "metadata": {},
   "outputs": [],
   "source": [
    "y_train_orig = df_train.fuel_efficiency_mpg.values\n",
    "y_val_orig = df_val.fuel_efficiency_mpg.values\n",
    "y_test_orig = df_test.fuel_efficiency_mpg.values\n",
    "\n",
    "y_train = np.log1p(df_train.fuel_efficiency_mpg.values)\n",
    "y_val = np.log1p(df_val.fuel_efficiency_mpg.values)\n",
    "y_test = np.log1p(df_test.fuel_efficiency_mpg.values)\n",
    "\n",
    "del df_train['fuel_efficiency_mpg']\n",
    "del df_val['fuel_efficiency_mpg']\n",
    "del df_test['fuel_efficiency_mpg']"
   ]
  },
  {
   "cell_type": "code",
   "execution_count": 23,
   "id": "69be201d-6ed7-4922-9b0a-cd560c2770ac",
   "metadata": {},
   "outputs": [
    {
     "data": {
      "image/png": "[encoded data removed]",
      "text/plain": [
       "<Figure size 600x400 with 1 Axes>"
      ]
     },
     "metadata": {},
     "output_type": "display_data"
    }
   ],
   "source": [
    "X_train = prepare_X(df_train)\n",
    "w_0, w = train_linear_regression(X_train, y_train)\n",
    "y_pred = w_0 + X_train.dot(w)\n",
    "\n",
    "from matplotlib import pyplot as plt\n",
    "import seaborn as sns\n",
    "%matplotlib inline\n",
    "\n",
    "plt.figure(figsize=(6, 4))\n",
    "\n",
    "sns.histplot(y_train, label='target', color='#222222', alpha=0.6, bins=40)\n",
    "sns.histplot(y_pred, label='prediction', color='#aaaaaa', alpha=0.8, bins=40)\n",
    "\n",
    "plt.legend()\n",
    "\n",
    "plt.ylabel('Frequency')\n",
    "plt.xlabel('Log(Fuel efficiency + 1)')\n",
    "plt.title('Predictions vs actual distribution')\n",
    "\n",
    "plt.show()"
   ]
  },
  {
   "cell_type": "code",
   "execution_count": 35,
   "id": "c0ec1be4-236c-42d5-9902-e3eec780a3e9",
   "metadata": {},
   "outputs": [],
   "source": [
    "def rmse(y, y_pred):\n",
    "    error = y_pred - y\n",
    "    mse = (error ** 2).mean()\n",
    "    return np.sqrt(mse)\n",
    "    "
   ]
  },
  {
   "cell_type": "code",
   "execution_count": 26,
   "id": "0fa0b3d7-f7e2-459a-9be0-6d72c67d6396",
   "metadata": {},
   "outputs": [
    {
     "name": "stdout",
     "output_type": "stream",
     "text": [
      "0.03886345791222734\n",
      "validation: 0.03974206126178\n"
     ]
    }
   ],
   "source": [
    "y_pred = w_0 + X_train.dot(w)\n",
    "print(rmse(y_train, y_pred))\n",
    "\n",
    "X_val = prepare_X(df_val)\n",
    "y_pred = w_0 + X_val.dot(w)\n",
    "print('validation:', rmse(y_val, y_pred))"
   ]
  },
  {
   "cell_type": "code",
   "execution_count": 22,
   "id": "29144d23-5915-4516-ac43-8ee574b742c1",
   "metadata": {},
   "outputs": [],
   "source": [
    "#Zero 0.0399792578229878  \n",
    "#Mean 0.03974206126178 Better\n",
    "\n",
    "#Zero 0.5173782638841185\n",
    "#Mean 0.5161906441748477 better"
   ]
  },
  {
   "cell_type": "code",
   "execution_count": 41,
   "id": "09c88730-1ae4-4ac3-9f22-2435ac4c56d7",
   "metadata": {},
   "outputs": [
    {
     "name": "stdout",
     "output_type": "stream",
     "text": [
      "validation 0 : 0.0399792578229878\n",
      "validation 0.01 : 0.03997787201794628\n",
      "validation 0.1 : 0.04050873984549153\n",
      "validation 1 : 0.04135385150826845\n",
      "validation 5 : 0.04150611823274443\n",
      "validation 10 : 0.041526801237522025\n",
      "validation 100 : 0.04154575656081158\n"
     ]
    }
   ],
   "source": [
    "def train_linear_regression_reg(X, y, r=0.0):\n",
    "    ones = np.ones(X.shape[0])\n",
    "    X = np.column_stack([ones, X])\n",
    "\n",
    "    XTX = X.T.dot(X)\n",
    "    reg = r * np.eye(XTX.shape[0])\n",
    "    XTX = XTX + reg\n",
    "\n",
    "    XTX_inv = np.linalg.inv(XTX)\n",
    "    w = XTX_inv.dot(X.T).dot(y)\n",
    "    \n",
    "    return w[0], w[1:]\n",
    "y_predlist=[]\n",
    "for r in [0, 0.01, 0.1, 1, 5, 10, 100]:\n",
    "    X_train = prepare_X(df_train)\n",
    "    w_0, w = train_linear_regression_reg(X_train, y_train, r)\n",
    "    X_val = prepare_X(df_val)\n",
    "    y_pred = w_0 + X_val.dot(w)\n",
    "    \n",
    "    print('validation', r, \":\",rmse(y_val, y_pred))\n",
    "    y_predlist.append([r,rmse(y_val, y_pred)])"
   ]
  },
  {
   "cell_type": "code",
   "execution_count": 38,
   "id": "12dbb0bb-df50-4ad9-8544-020a4a88db54",
   "metadata": {},
   "outputs": [
    {
     "data": {
      "text/plain": [
       "[[0, np.float64(0.03974206126178)],\n",
       " [0.01, np.float64(0.039740642916469365)],\n",
       " [0.1, np.float64(0.04027463008384845)],\n",
       " [1, np.float64(0.04112461615581577)],\n",
       " [5, np.float64(0.04127774217257117)],\n",
       " [10, np.float64(0.04129854147079755)],\n",
       " [100, np.float64(0.04131760378329314)]]"
      ]
     },
     "metadata": {},
     "output_type": "display_data"
    }
   ],
   "source": [
    "display(y_predlist)\n",
    "#validation 0.01 : 0.03997787201794628 Best\n",
    "\n",
    "#validation 0.01 : 0.5171115525775559 Best"
   ]
  },
  {
   "cell_type": "code",
   "execution_count": 42,
   "id": "eda441dc-d1fe-4d03-ba1e-135084b32671",
   "metadata": {},
   "outputs": [
    {
     "name": "stdout",
     "output_type": "stream",
     "text": [
      "validation: 0.03801775537104819\n",
      "validation: 0.039278853338995105\n",
      "validation: 0.03944653052696821\n",
      "validation: 0.038727637039551656\n",
      "validation: 0.03727535850045066\n",
      "validation: 0.039384388340472844\n",
      "validation: 0.03890763931474179\n",
      "validation: 0.03837971626919168\n",
      "validation: 0.04018986975307275\n",
      "validation: 0.038607646441651766\n"
     ]
    }
   ],
   "source": [
    "def shufflesplit_df(df,seed=0):\n",
    "    np.random.seed(seed)\n",
    "    n = len(df)\n",
    "\n",
    "    n_val = int(0.2 * n)\n",
    "    n_test = int(0.2 * n)\n",
    "    n_train = n - (n_val + n_test)\n",
    "\n",
    "    idx = np.arange(n)\n",
    "    np.random.shuffle(idx)\n",
    "\n",
    "    df_shuffled = df.iloc[idx]\n",
    "    \n",
    "    df_train = df_shuffled.iloc[:n_train].copy()\n",
    "    df_val = df_shuffled.iloc[n_train:n_train+n_val].copy()\n",
    "    df_test = df_shuffled.iloc[n_train+n_val:].copy()\n",
    "\n",
    "    return df_shuffled, df_train, df_val, df_test\n",
    "\n",
    "def validate_df(df_train,df_val,df_test):\n",
    "    y_train_orig = df_train.fuel_efficiency_mpg.values\n",
    "    y_val_orig = df_val.fuel_efficiency_mpg.values\n",
    "    y_test_orig = df_test.fuel_efficiency_mpg.values\n",
    "    \n",
    "    y_train = np.log1p(df_train.fuel_efficiency_mpg.values)\n",
    "    y_val = np.log1p(df_val.fuel_efficiency_mpg.values)\n",
    "    y_test = np.log1p(df_test.fuel_efficiency_mpg.values)\n",
    "\n",
    "    return y_train_orig,y_val_orig,y_test_orig,y_train,y_val,y_test\n",
    "\n",
    "seedlist=[0, 1, 2, 3, 4, 5, 6, 7, 8, 9]\n",
    "rmselist=[]\n",
    "for seedx in seedlist:\n",
    "    df_shuffled, df_train, df_val, df_test=shufflesplit_df(df,seedx)\n",
    "    y_train_orig,y_val_orig,y_test,y_train,y_val,y_test=validate_df(df_train,df_val,df_test)\n",
    "    \n",
    "    del df_train['fuel_efficiency_mpg']\n",
    "    del df_val['fuel_efficiency_mpg']\n",
    "    del df_test['fuel_efficiency_mpg']\n",
    "\n",
    "    X_train = prepare_X(df_train)\n",
    "    w_0, w = train_linear_regression(X_train, y_train)\n",
    "    y_pred0 = w_0 + X_train.dot(w)\n",
    "\n",
    "    X_val = prepare_X(df_val)\n",
    "    y_pred = w_0 + X_val.dot(w)\n",
    "    score=rmse(y_val, y_pred)\n",
    "    print('validation:', score)\n",
    "    rmselist.append(score)\n",
    "\n"
   ]
  },
  {
   "cell_type": "code",
   "execution_count": 43,
   "id": "3d179516-62f1-40dd-9ae8-0db5964cf17e",
   "metadata": {},
   "outputs": [
    {
     "data": {
      "text/plain": [
       "[np.float64(0.03801775537104819),\n",
       " np.float64(0.039278853338995105),\n",
       " np.float64(0.03944653052696821),\n",
       " np.float64(0.038727637039551656),\n",
       " np.float64(0.03727535850045066),\n",
       " np.float64(0.039384388340472844),\n",
       " np.float64(0.03890763931474179),\n",
       " np.float64(0.03837971626919168),\n",
       " np.float64(0.04018986975307275),\n",
       " np.float64(0.038607646441651766)]"
      ]
     },
     "metadata": {},
     "output_type": "display_data"
    },
    {
     "data": {
      "text/plain": [
       "'Standard deviation:'"
      ]
     },
     "metadata": {},
     "output_type": "display_data"
    },
    {
     "data": {
      "text/plain": [
       "np.float64(0.001)"
      ]
     },
     "metadata": {},
     "output_type": "display_data"
    }
   ],
   "source": [
    "display(rmselist)\n",
    "display(\"Standard deviation:\", round(np.std(rmselist),3))"
   ]
  },
  {
   "cell_type": "code",
   "execution_count": 54,
   "id": "d5de016b-77c9-4f35-9adc-01b37588495a",
   "metadata": {},
   "outputs": [
    {
     "name": "stdout",
     "output_type": "stream",
     "text": [
      "Test: 0.03919613644482336\n"
     ]
    }
   ],
   "source": [
    "seedlist2=[9]\n",
    "for seedx in seedlist2:\n",
    "    df_shuffled, df_train, df_val, df_test=shufflesplit_df(df,seedx)\n",
    "    df_train2=pd.concat([df_train, df_val], axis=0)\n",
    "    \n",
    "    y_train_orig,y_val_orig,y_test_orig,y_train,y_val,y_test=validate_df(df_train2,df_val, df_test)\n",
    "    \n",
    "    del df_train2['fuel_efficiency_mpg']\n",
    "    del df_val['fuel_efficiency_mpg']\n",
    "    del df_test['fuel_efficiency_mpg']\n",
    "\n",
    "    X_train = prepare_X(df_train2)\n",
    "    w_0, w = train_linear_regression_reg(X_train, y_train,r=0.001)\n",
    "    y_pred0 = w_0 + X_train.dot(w)\n",
    "\n",
    "    X_test = prepare_X(df_test)\n",
    "    y_pred = w_0 + X_test.dot(w)\n",
    "    score=rmse(y_test, y_pred)\n",
    "    print('Test:', score)\n",
    "    rmselist.append(score)"
   ]
  },
  {
   "cell_type": "code",
   "execution_count": null,
   "id": "a55eff0d-751a-4734-af26-d7ac5f4dc7e1",
   "metadata": {},
   "outputs": [],
   "source": []
  }
 ],
 "metadata": {
  "kernelspec": {
   "display_name": "Python 3 (ipykernel)",
   "language": "python",
   "name": "python3"
  },
  "language_info": {
   "codemirror_mode": {
    "name": "ipython",
    "version": 3
   },
   "file_extension": ".py",
   "mimetype": "text/x-python",
   "name": "python",
   "nbconvert_exporter": "python",
   "pygments_lexer": "ipython3",
   "version": "3.13.5"
  }
 },
 "nbformat": 4,
 "nbformat_minor": 5
}
