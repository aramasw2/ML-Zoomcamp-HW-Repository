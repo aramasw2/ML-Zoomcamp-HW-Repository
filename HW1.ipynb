{
 "cells": [
  {
   "cell_type": "code",
   "execution_count": 1,
   "id": "040cd641-1732-4fe9-a35d-010527d5d3be",
   "metadata": {},
   "outputs": [
    {
     "data": {
      "text/plain": [
       "'2.3.1'"
      ]
     },
     "execution_count": 1,
     "metadata": {},
     "output_type": "execute_result"
    }
   ],
   "source": [
    "import numpy as np\n",
    "import pandas as pd\n",
    "\n",
    "pd.__version__\n"
   ]
  },
  {
   "cell_type": "code",
   "execution_count": 2,
   "id": "97186a80-3ae0-4985-b0b3-d4927d0f4d3f",
   "metadata": {},
   "outputs": [
    {
     "name": "stdout",
     "output_type": "stream",
     "text": [
      "9704\n"
     ]
    }
   ],
   "source": [
    "file_path = 'car_fuel_efficiency.csv'\n",
    "\n",
    "df=pd.read_csv(file_path)\n",
    "\n",
    "print(df.shape[0])"
   ]
  },
  {
   "cell_type": "code",
   "execution_count": 3,
   "id": "be7d0f7f-d5ce-4508-9ff1-f36e95fe0ae9",
   "metadata": {},
   "outputs": [
    {
     "name": "stdout",
     "output_type": "stream",
     "text": [
      "Index(['engine_displacement', 'num_cylinders', 'horsepower', 'vehicle_weight',\n",
      "       'acceleration', 'model_year', 'origin', 'fuel_type', 'drivetrain',\n",
      "       'num_doors', 'fuel_efficiency_mpg'],\n",
      "      dtype='object')\n",
      "fuel_type\n",
      "Gasoline    4898\n",
      "Diesel      4806\n",
      "Name: count, dtype: int64\n",
      "2\n"
     ]
    }
   ],
   "source": [
    "print(df.columns)\n",
    "category_counts = df['fuel_type'].value_counts()\n",
    "\n",
    "print(category_counts)\n",
    "print(len(category_counts))"
   ]
  },
  {
   "cell_type": "code",
   "execution_count": 4,
   "id": "bdc5053c-1fcc-4b69-9849-65c6463f9e88",
   "metadata": {},
   "outputs": [
    {
     "name": "stdout",
     "output_type": "stream",
     "text": [
      "engine_displacement      0\n",
      "num_cylinders          482\n",
      "horsepower             708\n",
      "vehicle_weight           0\n",
      "acceleration           930\n",
      "model_year               0\n",
      "origin                   0\n",
      "fuel_type                0\n",
      "drivetrain               0\n",
      "num_doors              502\n",
      "fuel_efficiency_mpg      0\n",
      "dtype: int64\n",
      "4\n"
     ]
    }
   ],
   "source": [
    "missing_counts=df.isnull().sum()\n",
    "print(missing_counts)\n",
    "print(len(missing_counts[missing_counts > 0].index.tolist()))"
   ]
  },
  {
   "cell_type": "code",
   "execution_count": 5,
   "id": "6a0c1fe1-1dcf-4601-8e52-1519bee0d4d2",
   "metadata": {},
   "outputs": [
    {
     "name": "stdout",
     "output_type": "stream",
     "text": [
      "Unique values in 'origin': ['Europe' 'USA' 'Asia']\n",
      "23.759122836520497\n"
     ]
    }
   ],
   "source": [
    "print(f\"Unique values in 'origin': {df['origin'].unique()}\")\n",
    "df2=df[df['origin']=='Asia']\n",
    "\n",
    "print(df2['fuel_efficiency_mpg'].max())"
   ]
  },
  {
   "cell_type": "code",
   "execution_count": 16,
   "id": "f5efb3f6-9d73-47aa-8f01-453ed4220f0f",
   "metadata": {},
   "outputs": [
    {
     "name": "stdout",
     "output_type": "stream",
     "text": [
      "Original median: 149.0\n",
      "New median: 152.0\n"
     ]
    }
   ],
   "source": [
    "print(\"Original median:\", df['horsepower'].median())\n",
    "mode=df['horsepower'].mode()[0]\n",
    "\n",
    "df3 = df.copy()\n",
    "df3['horsepower'] = df3['horsepower'].fillna(mode)\n",
    "print(\"New median:\", df3['horsepower'].median())"
   ]
  },
  {
   "cell_type": "code",
   "execution_count": 82,
   "id": "54cb6f7b-7f28-4b40-9be9-0f1ce8c83360",
   "metadata": {},
   "outputs": [
    {
     "name": "stdout",
     "output_type": "stream",
     "text": [
      "[[2714.21930965 2016.        ]\n",
      " [2783.86897424 2010.        ]\n",
      " [3582.68736772 2007.        ]\n",
      " [2231.8081416  2011.        ]\n",
      " [2659.43145076 2016.        ]\n",
      " [2844.22753389 2014.        ]\n",
      " [3761.99403819 2019.        ]]\n"
     ]
    },
    {
     "data": {
      "text/plain": [
       "array([0.01386421, 0.5049067 ])"
      ]
     },
     "metadata": {},
     "output_type": "display_data"
    },
    {
     "data": {
      "text/plain": [
       "np.float64(0.5187709081074016)"
      ]
     },
     "metadata": {},
     "output_type": "display_data"
    }
   ],
   "source": [
    "X=df2[['vehicle_weight','model_year']][0:7].to_numpy()\n",
    "print(X)\n",
    "XTX=np.dot(X.T,X)\n",
    "XTXinv=np.linalg.inv(XTX)\n",
    "#display(XTXinv)\n",
    "y=np.array([1100, 1300, 800, 900, 1000, 1100, 1200])\n",
    "w=np.dot(np.dot(XTXinv,X.T),y)\n",
    "display(w)\n",
    "display(sum(w))"
   ]
  },
  {
   "cell_type": "code",
   "execution_count": null,
   "id": "0a2b25cc-8d87-4c06-a4c7-54ea59b27c40",
   "metadata": {},
   "outputs": [],
   "source": []
  }
 ],
 "metadata": {
  "kernelspec": {
   "display_name": "Python 3 (ipykernel)",
   "language": "python",
   "name": "python3"
  },
  "language_info": {
   "codemirror_mode": {
    "name": "ipython",
    "version": 3
   },
   "file_extension": ".py",
   "mimetype": "text/x-python",
   "name": "python",
   "nbconvert_exporter": "python",
   "pygments_lexer": "ipython3",
   "version": "3.13.5"
  }
 },
 "nbformat": 4,
 "nbformat_minor": 5
}
